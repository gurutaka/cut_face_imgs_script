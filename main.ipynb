{
 "cells": [
  {
   "cell_type": "code",
   "execution_count": 10,
   "metadata": {},
   "outputs": [],
   "source": [
    "import cv2\n",
    "import numpy as np\n",
    "import matplotlib.pyplot as plt\n",
    "\n",
    "import glob\n",
    "import os"
   ]
  },
  {
   "cell_type": "code",
   "execution_count": 11,
   "metadata": {},
   "outputs": [],
   "source": [
    "origin_path = './imgs/original'\n",
    "cut_face_path = './imgs/perfume'"
   ]
  },
  {
   "cell_type": "code",
   "execution_count": 12,
   "metadata": {},
   "outputs": [],
   "source": [
    "cascade_path = './opencv/haarcascade_frontalface_alt.xml'\n",
    "face_cascade = cv2.CascadeClassifier(cascade_path)"
   ]
  },
  {
   "cell_type": "code",
   "execution_count": 13,
   "metadata": {},
   "outputs": [],
   "source": [
    "for fold_path in glob.glob('./imgs/original/*'):\n",
    "    imgs = glob.glob(origin_path + '/*')\n",
    "    # save_path = fold_path.replace('original','cut_face')\n",
    "    \n",
    "    # フォルダがなかったら作成\n",
    "    if not os.path.exists(cut_face_path):\n",
    "        os.mkdir(cut_face_path)\n",
    "        \n",
    "    for i, img_path in enumerate(imgs,1):\n",
    "        img = cv2.imread(img_path, cv2.IMREAD_COLOR)\n",
    "        img_gray = cv2.cvtColor(img, cv2.COLOR_BGR2GRAY)\n",
    "        \n",
    "        faces = face_cascade.detectMultiScale(img_gray, 1.1, 3)\n",
    "        \n",
    "        if len(faces) > 0:\n",
    "            for j, face in enumerate(faces,1):\n",
    "                x, y ,w, h =face\n",
    "                save_img_path = cut_face_path + '/' + str(i) +'_' + str(j) + '.jpg'\n",
    "                cv2.imwrite(save_img_path , img[y:y+h, x:x+w])\n",
    "        else:\n",
    "            print ('image' + str(i) + ':NoFace')"
   ]
  },
  {
   "cell_type": "code",
   "execution_count": null,
   "metadata": {},
   "outputs": [],
   "source": []
  }
 ],
 "metadata": {
  "kernelspec": {
   "display_name": "Python 3.7.5 64-bit",
   "language": "python",
   "name": "python37564bit7120eb26dd504ed3919b459d96fdd1c8"
  },
  "language_info": {
   "codemirror_mode": {
    "name": "ipython",
    "version": 3
   },
   "file_extension": ".py",
   "mimetype": "text/x-python",
   "name": "python",
   "nbconvert_exporter": "python",
   "pygments_lexer": "ipython3",
   "version": "3.7.5-final"
  }
 },
 "nbformat": 4,
 "nbformat_minor": 2
}